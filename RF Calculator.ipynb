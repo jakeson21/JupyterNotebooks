{
 "cells": [
  {
   "cell_type": "code",
   "execution_count": 1,
   "metadata": {},
   "outputs": [],
   "source": [
    "import math\n",
    "import numpy as np\n",
    "from ipywidgets import interact, interactive, fixed, interact_manual\n",
    "import ipywidgets as widgets\n",
    "\n",
    "\n",
    "from IPython.core.debugger import set_trace"
   ]
  },
  {
   "cell_type": "markdown",
   "metadata": {},
   "source": [
    "# Minimum Detectable Signal Calculator\n",
    "\n",
    "http://www.ti.com/lit/an/slaa652/slaa652.pdf\n"
   ]
  },
  {
   "cell_type": "code",
   "execution_count": 10,
   "metadata": {},
   "outputs": [],
   "source": [
    "def cascadeNoiseFigure(NF_dB=np.array([]), Gain_dB=np.array([])):\n",
    "    NF_cum_dB = []\n",
    "    if NF_dB.size != Gain_dB.size:\n",
    "        return NF_cum_dB\n",
    "    if NF_dB.size == 1:\n",
    "        return NF_dB\n",
    "    # Convert to linear\n",
    "    G = np.power(10, Gain_dB/10)    \n",
    "    F = np.power(10, NF_dB/10)\n",
    "    Gc = np.cumprod(G)\n",
    "    # First element\n",
    "    F_cum = F[0]\n",
    "    # set_trace()\n",
    "    # Next Elements\n",
    "    for n in np.arange(1,NF_dB.size):\n",
    "        F_cum = F_cum + (F[n]-1)/Gc[n-1]\n",
    "    NF_cum_dB = 10*np.log10(F_cum)\n",
    "    return NF_cum_dB\n",
    "\n",
    "def calculateSnrOut(Pin_dBm, Ta_K, AntGain_dB, BW_Hz, NF_dB=np.array([]), Gain_dB=np.array([])):\n",
    "    k = 1.3806485279e-23\n",
    "    NF2 = cascadeNoiseFigure(NF_dB, Gain_dB)\n",
    "    Nin_dB = 10*np.log10(k * Ta_K * BW_Hz) + 30\n",
    "    SNRin_dB = Pin_dBm + AntGain_dB - Nin_dB\n",
    "    SNRout_dB = SNRin_dB - NF2\n",
    "    return SNRout_dB\n"
   ]
  },
  {
   "cell_type": "code",
   "execution_count": 55,
   "metadata": {},
   "outputs": [
    {
     "data": {
      "application/vnd.jupyter.widget-view+json": {
       "model_id": "3e40afe631c447b1a7f1ee2b1f6eeef6",
       "version_major": 2,
       "version_minor": 0
      },
      "text/plain": [
       "interactive(children=(FloatSlider(value=50.0, description='Ta', max=300.0, min=5.0, step=1.0), FloatSlider(val…"
      ]
     },
     "metadata": {},
     "output_type": "display_data"
    }
   ],
   "source": [
    "pin_dBm = -125\n",
    "antTemp_K = 50\n",
    "antGain_dB = 8\n",
    "bw_Hz = 15000\n",
    "NF = np.array([0.42, 2.8, 2.5, 5])\n",
    "Gain = np.array([15, -2.8, 42, 60])\n",
    "\n",
    "# calculateSnrOut(Pin_dBm=pin_dBm, Ta_K=antTemp_K, AntGain_dB=Gant_dB, BW_Hz=bw_Hz, NF_dB=NF, Gain_dB=Gain)\n",
    "\n",
    "def f(Ta,BW):\n",
    "    snr=calculateSnrOut(Pin_dBm=pin_dBm, Ta_K=Ta, AntGain_dB=antGain_dB, BW_Hz=BW, NF_dB=NF, Gain_dB=Gain)\n",
    "    print(\"SNR out\",snr,\"dB\")\n",
    "    pout = pin_dBm + antGain_dB + np.cumsum(Gain)\n",
    "    print(\"Pout\",pout,\"dBm\")\n",
    "    \n",
    "interact(f, Ta=widgets.FloatSlider(min=5,max=300,step=1,value=50),\n",
    "        BW=widgets.FloatSlider(min=1e3,max=200e3,step=1e3,value=100e3));\n"
   ]
  }
 ],
 "metadata": {
  "kernelspec": {
   "display_name": "Python 3",
   "language": "python",
   "name": "python3"
  },
  "language_info": {
   "codemirror_mode": {
    "name": "ipython",
    "version": 3
   },
   "file_extension": ".py",
   "mimetype": "text/x-python",
   "name": "python",
   "nbconvert_exporter": "python",
   "pygments_lexer": "ipython3",
   "version": "3.6.5"
  }
 },
 "nbformat": 4,
 "nbformat_minor": 2
}

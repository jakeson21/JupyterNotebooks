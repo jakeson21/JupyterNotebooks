{
 "cells": [
  {
   "cell_type": "markdown",
   "metadata": {},
   "source": [
    "# Differential Drive"
   ]
  },
  {
   "cell_type": "code",
   "execution_count": 18,
   "metadata": {},
   "outputs": [
    {
     "data": {
      "application/vnd.jupyter.widget-view+json": {
       "model_id": "c7d2509e27a74b0cba924b1cf95bcad0",
       "version_major": 2,
       "version_minor": 0
      },
      "text/plain": [
       "interactive(children=(FloatSlider(value=50.0, description='thrust', step=1.0), Output()), _dom_classes=('widge…"
      ]
     },
     "metadata": {},
     "output_type": "display_data"
    }
   ],
   "source": [
    "# %matplotlib notebook\n",
    "import math\n",
    "import numpy as np\n",
    "import matplotlib\n",
    "import matplotlib.pyplot as plt\n",
    "from ipywidgets import interact, interactive, fixed, interact_manual\n",
    "import ipywidgets as widgets\n",
    "\n",
    "\n",
    "def calc(thrust):\n",
    "    xr1 = np.linspace(-50, 0.0, num=51)\n",
    "    yr1 = thrust*np.ones_like(xr1)\n",
    "    xr2 = np.linspace(0, 50.0, num=51)\n",
    "    yr2 = (1-2*xr2/100)*thrust\n",
    "    x_right = np.concatenate((xr1, xr2))\n",
    "    y_right = np.concatenate((yr1, yr2))\n",
    "    \n",
    "    xl1 = np.linspace(-50, 0.0, num=51)\n",
    "    yl1 = (1+2*xl1/100)*thrust\n",
    "    xl2 = np.linspace(0, 50.0, num=51)\n",
    "    yl2 = thrust*np.ones_like(xl2)\n",
    "    x_left = np.concatenate((xl1, xl2))\n",
    "    y_left = np.concatenate((yl1, yl2))\n",
    "    \n",
    "    plt.figure()\n",
    "    ax = plt.gca()\n",
    "    ax.set_xlim(-50, 50)\n",
    "    ax.set_ylim(0, 100)\n",
    "    plt.plot(x_right, y_right, 'C1', label='Right Motor', alpha=0.5, linewidth=5.0)\n",
    "    plt.plot(x_left, y_left, 'C2', label='Left Motor', alpha=0.5, linewidth=5.0)\n",
    "    plt.grid(True)\n",
    "    plt.legend()\n",
    "    \n",
    "interact(calc, thrust=widgets.FloatSlider(min=0,max=100,step=1,value=50));\n"
   ]
  }
 ],
 "metadata": {
  "kernelspec": {
   "display_name": "Python 3",
   "language": "python",
   "name": "python3"
  },
  "language_info": {
   "codemirror_mode": {
    "name": "ipython",
    "version": 3
   },
   "file_extension": ".py",
   "mimetype": "text/x-python",
   "name": "python",
   "nbconvert_exporter": "python",
   "pygments_lexer": "ipython3",
   "version": "3.6.5"
  }
 },
 "nbformat": 4,
 "nbformat_minor": 2
}
